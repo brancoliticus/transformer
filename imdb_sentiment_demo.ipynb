{
 "cells": [
  {
   "cell_type": "code",
   "execution_count": 1,
   "metadata": {},
   "outputs": [],
   "source": [
    "import numpy as np\n",
    "import tensorflow as tf\n",
    "from tensorflow.contrib import predictor\n",
    "\n",
    "from data.imdb import Tokenizer"
   ]
  },
  {
   "cell_type": "code",
   "execution_count": 2,
   "metadata": {},
   "outputs": [
    {
     "data": {
      "text/plain": [
       "'1.12.0'"
      ]
     },
     "execution_count": 2,
     "metadata": {},
     "output_type": "execute_result"
    }
   ],
   "source": [
    "tf.__version__"
   ]
  },
  {
   "cell_type": "code",
   "execution_count": 3,
   "metadata": {},
   "outputs": [],
   "source": [
    "export_dir = \"models/imdb_sentiment/export/model/1552107126\"\n",
    "seq_len = 256\n",
    "vocab_size = 2048"
   ]
  },
  {
   "cell_type": "code",
   "execution_count": 4,
   "metadata": {},
   "outputs": [
    {
     "name": "stdout",
     "output_type": "stream",
     "text": [
      "INFO:tensorflow:Restoring parameters from models/imdb_sentiment/export/model/1552107126/variables/variables\n"
     ]
    },
    {
     "name": "stderr",
     "output_type": "stream",
     "text": [
      "WARNING: Logging before flag parsing goes to stderr.\n",
      "I0309 13:35:01.246718 4596434368 tf_logging.py:115] Restoring parameters from models/imdb_sentiment/export/model/1552107126/variables/variables\n"
     ]
    }
   ],
   "source": [
    "p = predictor.from_saved_model(\n",
    "    export_dir, \n",
    "    input_names={\"input_text\": \"input_text:0\"}, \n",
    "    output_names={\n",
    "        \"prediction\": \"dense/Softmax:0\",\n",
    "        \"attention_0\": \"attention/attention_weights:0\",\n",
    "        \"attention_1\": \"attention_1/attention_weights:0\",\n",
    "    },\n",
    ")"
   ]
  },
  {
   "cell_type": "code",
   "execution_count": 5,
   "metadata": {},
   "outputs": [],
   "source": [
    "tok = Tokenizer(vocab_size, seq_len)"
   ]
  },
  {
   "cell_type": "code",
   "execution_count": 6,
   "metadata": {},
   "outputs": [],
   "source": [
    "tok.load_index(\"models/imdb_sentiment/data/word_index.json\")"
   ]
  },
  {
   "cell_type": "code",
   "execution_count": 7,
   "metadata": {},
   "outputs": [],
   "source": [
    "inputs = list(tok.transform([\n",
    "    b\"this movie is excellent\", \n",
    "    b\"this movie is good\", \n",
    "    b\"this movie sucks\",\n",
    "    b\"That movie was absolutely awful\",\n",
    "    b\"The acting was a bit lacking\",\n",
    "    b\"The film was creative and surprising\",\n",
    "    b\"Absolutely fantastic!\"\n",
    "]))"
   ]
  },
  {
   "cell_type": "code",
   "execution_count": 8,
   "metadata": {},
   "outputs": [
    {
     "data": {
      "text/plain": [
       "array([[1.4082224e-13, 1.0000000e+00],\n",
       "       [5.4077776e-10, 1.0000000e+00],\n",
       "       [1.0000000e+00, 8.3034447e-19],\n",
       "       [1.0000000e+00, 1.5380015e-13],\n",
       "       [5.9238344e-01, 4.0761656e-01],\n",
       "       [2.6104544e-11, 1.0000000e+00],\n",
       "       [3.5190692e-10, 1.0000000e+00]], dtype=float32)"
      ]
     },
     "execution_count": 8,
     "metadata": {},
     "output_type": "execute_result"
    }
   ],
   "source": [
    "outputs = p({\"input_text\": inputs})\n",
    "outputs[\"prediction\"]"
   ]
  }
 ],
 "metadata": {
  "kernelspec": {
   "display_name": "Python 3",
   "language": "python",
   "name": "python3"
  },
  "language_info": {
   "codemirror_mode": {
    "name": "ipython",
    "version": 3
   },
   "file_extension": ".py",
   "mimetype": "text/x-python",
   "name": "python",
   "nbconvert_exporter": "python",
   "pygments_lexer": "ipython3",
   "version": "3.6.8"
  }
 },
 "nbformat": 4,
 "nbformat_minor": 2
}
